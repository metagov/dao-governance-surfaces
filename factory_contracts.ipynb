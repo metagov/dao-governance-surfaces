{
 "cells": [
  {
   "cell_type": "code",
   "execution_count": 1,
   "id": "e8e3e72d",
   "metadata": {},
   "outputs": [],
   "source": [
    "import os\n",
    "import pandas as pd\n",
    "import seaborn as sns\n",
    "import matplotlib.pyplot as plt\n",
    "import textwrap"
   ]
  },
  {
   "cell_type": "code",
   "execution_count": 2,
   "id": "01ff10dc",
   "metadata": {},
   "outputs": [],
   "source": [
    "from dgs.utils import load_results_from_files\n",
    "from dgs.plotutils import plot_coded_column as _plot_coded_column\n",
    "from dgs.utils import count_unique_values, print_groupby\n",
    "\n",
    "kw_plot = {'scaleToMax': False}\n",
    "def plot_coded_column(df, name, label=None):\n",
    "    _plot_coded_column(df, name, label=label, **kw_plot)"
   ]
  },
  {
   "cell_type": "markdown",
   "id": "bff0dcad",
   "metadata": {},
   "source": [
    "## Goals\n",
    "- Identify degree of adaptivity: raw numbers/types of self-governance mechanisms and parameters, and what kinds of \"degrees of freedom\" they afford\n",
    "- Identify degree of autonomy: ability to self-govern (System 5 of Viable System Model)"
   ]
  },
  {
   "cell_type": "markdown",
   "id": "515d55e9",
   "metadata": {},
   "source": [
    "## Import data and check what's generally in it"
   ]
  },
  {
   "cell_type": "code",
   "execution_count": 3,
   "id": "cf986610",
   "metadata": {},
   "outputs": [],
   "source": [
    "dir = 'tmp'\n",
    "\n",
    "df_objects, df_params = load_results_from_files(dir)"
   ]
  },
  {
   "cell_type": "code",
   "execution_count": 4,
   "id": "f8965835",
   "metadata": {},
   "outputs": [
    {
     "data": {
      "text/html": [
       "<div>\n",
       "<style scoped>\n",
       "    .dataframe tbody tr th:only-of-type {\n",
       "        vertical-align: middle;\n",
       "    }\n",
       "\n",
       "    .dataframe tbody tr th {\n",
       "        vertical-align: top;\n",
       "    }\n",
       "\n",
       "    .dataframe thead th {\n",
       "        text-align: right;\n",
       "    }\n",
       "</style>\n",
       "<table border=\"1\" class=\"dataframe\">\n",
       "  <thead>\n",
       "    <tr style=\"text-align: right;\">\n",
       "      <th></th>\n",
       "      <th>object_name</th>\n",
       "      <th>contract</th>\n",
       "      <th>type</th>\n",
       "      <th>inheritance</th>\n",
       "      <th>modifiers</th>\n",
       "      <th>values</th>\n",
       "      <th>visibility</th>\n",
       "      <th>description</th>\n",
       "      <th>parameters</th>\n",
       "      <th>title</th>\n",
       "      <th>...</th>\n",
       "      <th>coding_topic_search</th>\n",
       "      <th>url</th>\n",
       "      <th>project</th>\n",
       "      <th>repo_update_datetime</th>\n",
       "      <th>repo_version</th>\n",
       "      <th>repo_url</th>\n",
       "      <th>parameters_names</th>\n",
       "      <th>membership</th>\n",
       "      <th>proposal</th>\n",
       "      <th>voting</th>\n",
       "    </tr>\n",
       "    <tr>\n",
       "      <th>id</th>\n",
       "      <th></th>\n",
       "      <th></th>\n",
       "      <th></th>\n",
       "      <th></th>\n",
       "      <th></th>\n",
       "      <th></th>\n",
       "      <th></th>\n",
       "      <th></th>\n",
       "      <th></th>\n",
       "      <th></th>\n",
       "      <th></th>\n",
       "      <th></th>\n",
       "      <th></th>\n",
       "      <th></th>\n",
       "      <th></th>\n",
       "      <th></th>\n",
       "      <th></th>\n",
       "      <th></th>\n",
       "      <th></th>\n",
       "      <th></th>\n",
       "      <th></th>\n",
       "    </tr>\n",
       "  </thead>\n",
       "  <tbody>\n",
       "    <tr>\n",
       "      <th>Token.Token@5</th>\n",
       "      <td>Token</td>\n",
       "      <td>Token</td>\n",
       "      <td>ContractDefinition</td>\n",
       "      <td>[ERC20]</td>\n",
       "      <td>[]</td>\n",
       "      <td>[]</td>\n",
       "      <td>NaN</td>\n",
       "      <td>NaN</td>\n",
       "      <td>[]</td>\n",
       "      <td>NaN</td>\n",
       "      <td>...</td>\n",
       "      <td>[]</td>\n",
       "      <td>https://github.com/MolochVentures/moloch/blob/...</td>\n",
       "      <td>_Moloch - Moloch v2</td>\n",
       "      <td>2023-01-18T14:28:28Z</td>\n",
       "      <td>NaN</td>\n",
       "      <td>https://github.com/MolochVentures/moloch</td>\n",
       "      <td>[]</td>\n",
       "      <td>0</td>\n",
       "      <td>0</td>\n",
       "      <td>0</td>\n",
       "    </tr>\n",
       "    <tr>\n",
       "      <th>Token.constructor@6</th>\n",
       "      <td>constructor</td>\n",
       "      <td>Token</td>\n",
       "      <td>FunctionDefinition</td>\n",
       "      <td>[]</td>\n",
       "      <td>[]</td>\n",
       "      <td>[]</td>\n",
       "      <td>public</td>\n",
       "      <td>NaN</td>\n",
       "      <td>[Token.constructor.supply@6]</td>\n",
       "      <td>NaN</td>\n",
       "      <td>...</td>\n",
       "      <td>[]</td>\n",
       "      <td>https://github.com/MolochVentures/moloch/blob/...</td>\n",
       "      <td>_Moloch - Moloch v2</td>\n",
       "      <td>2023-01-18T14:28:28Z</td>\n",
       "      <td>NaN</td>\n",
       "      <td>https://github.com/MolochVentures/moloch</td>\n",
       "      <td>[supply]</td>\n",
       "      <td>0</td>\n",
       "      <td>0</td>\n",
       "      <td>0</td>\n",
       "    </tr>\n",
       "    <tr>\n",
       "      <th>Moloch.Moloch@7</th>\n",
       "      <td>Moloch</td>\n",
       "      <td>Moloch</td>\n",
       "      <td>ContractDefinition</td>\n",
       "      <td>[ReentrancyGuard]</td>\n",
       "      <td>[]</td>\n",
       "      <td>[]</td>\n",
       "      <td>NaN</td>\n",
       "      <td>NaN</td>\n",
       "      <td>[Moloch.Moloch.periodDuration@13, Moloch.Moloc...</td>\n",
       "      <td>NaN</td>\n",
       "      <td>...</td>\n",
       "      <td>[]</td>\n",
       "      <td>https://github.com/MolochVentures/moloch/blob/...</td>\n",
       "      <td>_Moloch - Moloch v2</td>\n",
       "      <td>2023-01-18T14:28:28Z</td>\n",
       "      <td>NaN</td>\n",
       "      <td>https://github.com/MolochVentures/moloch</td>\n",
       "      <td>[periodDuration, votingPeriodLength, gracePeri...</td>\n",
       "      <td>1</td>\n",
       "      <td>1</td>\n",
       "      <td>1</td>\n",
       "    </tr>\n",
       "    <tr>\n",
       "      <th>Moloch.SummonComplete@36</th>\n",
       "      <td>SummonComplete</td>\n",
       "      <td>Moloch</td>\n",
       "      <td>EventDefinition</td>\n",
       "      <td>[]</td>\n",
       "      <td>[]</td>\n",
       "      <td>[]</td>\n",
       "      <td>NaN</td>\n",
       "      <td>***************\\nEVENTS\\n***************</td>\n",
       "      <td>[Moloch.SummonComplete.summoner@36, Moloch.Sum...</td>\n",
       "      <td>NaN</td>\n",
       "      <td>...</td>\n",
       "      <td>[]</td>\n",
       "      <td>https://github.com/MolochVentures/moloch/blob/...</td>\n",
       "      <td>_Moloch - Moloch v2</td>\n",
       "      <td>2023-01-18T14:28:28Z</td>\n",
       "      <td>NaN</td>\n",
       "      <td>https://github.com/MolochVentures/moloch</td>\n",
       "      <td>[summoner, tokens, summoningTime, periodDurati...</td>\n",
       "      <td>0</td>\n",
       "      <td>1</td>\n",
       "      <td>1</td>\n",
       "    </tr>\n",
       "    <tr>\n",
       "      <th>Moloch.SubmitProposal@37</th>\n",
       "      <td>SubmitProposal</td>\n",
       "      <td>Moloch</td>\n",
       "      <td>EventDefinition</td>\n",
       "      <td>[]</td>\n",
       "      <td>[]</td>\n",
       "      <td>[]</td>\n",
       "      <td>NaN</td>\n",
       "      <td>NaN</td>\n",
       "      <td>[Moloch.SubmitProposal.applicant@37, Moloch.Su...</td>\n",
       "      <td>NaN</td>\n",
       "      <td>...</td>\n",
       "      <td>[]</td>\n",
       "      <td>https://github.com/MolochVentures/moloch/blob/...</td>\n",
       "      <td>_Moloch - Moloch v2</td>\n",
       "      <td>2023-01-18T14:28:28Z</td>\n",
       "      <td>NaN</td>\n",
       "      <td>https://github.com/MolochVentures/moloch</td>\n",
       "      <td>[applicant, sharesRequested, lootRequested, tr...</td>\n",
       "      <td>1</td>\n",
       "      <td>1</td>\n",
       "      <td>0</td>\n",
       "    </tr>\n",
       "  </tbody>\n",
       "</table>\n",
       "<p>5 rows × 26 columns</p>\n",
       "</div>"
      ],
      "text/plain": [
       "                             object_name contract                type  \\\n",
       "id                                                                      \n",
       "Token.Token@5                      Token    Token  ContractDefinition   \n",
       "Token.constructor@6          constructor    Token  FunctionDefinition   \n",
       "Moloch.Moloch@7                   Moloch   Moloch  ContractDefinition   \n",
       "Moloch.SummonComplete@36  SummonComplete   Moloch     EventDefinition   \n",
       "Moloch.SubmitProposal@37  SubmitProposal   Moloch     EventDefinition   \n",
       "\n",
       "                                inheritance modifiers values visibility  \\\n",
       "id                                                                        \n",
       "Token.Token@5                       [ERC20]        []     []        NaN   \n",
       "Token.constructor@6                      []        []     []     public   \n",
       "Moloch.Moloch@7           [ReentrancyGuard]        []     []        NaN   \n",
       "Moloch.SummonComplete@36                 []        []     []        NaN   \n",
       "Moloch.SubmitProposal@37                 []        []     []        NaN   \n",
       "\n",
       "                                                       description  \\\n",
       "id                                                                   \n",
       "Token.Token@5                                                  NaN   \n",
       "Token.constructor@6                                            NaN   \n",
       "Moloch.Moloch@7                                                NaN   \n",
       "Moloch.SummonComplete@36  ***************\\nEVENTS\\n***************   \n",
       "Moloch.SubmitProposal@37                                       NaN   \n",
       "\n",
       "                                                                 parameters  \\\n",
       "id                                                                            \n",
       "Token.Token@5                                                            []   \n",
       "Token.constructor@6                            [Token.constructor.supply@6]   \n",
       "Moloch.Moloch@7           [Moloch.Moloch.periodDuration@13, Moloch.Moloc...   \n",
       "Moloch.SummonComplete@36  [Moloch.SummonComplete.summoner@36, Moloch.Sum...   \n",
       "Moloch.SubmitProposal@37  [Moloch.SubmitProposal.applicant@37, Moloch.Su...   \n",
       "\n",
       "                          title  ...  coding_topic_search  \\\n",
       "id                               ...                        \n",
       "Token.Token@5               NaN  ...                   []   \n",
       "Token.constructor@6         NaN  ...                   []   \n",
       "Moloch.Moloch@7             NaN  ...                   []   \n",
       "Moloch.SummonComplete@36    NaN  ...                   []   \n",
       "Moloch.SubmitProposal@37    NaN  ...                   []   \n",
       "\n",
       "                                                                        url  \\\n",
       "id                                                                            \n",
       "Token.Token@5             https://github.com/MolochVentures/moloch/blob/...   \n",
       "Token.constructor@6       https://github.com/MolochVentures/moloch/blob/...   \n",
       "Moloch.Moloch@7           https://github.com/MolochVentures/moloch/blob/...   \n",
       "Moloch.SummonComplete@36  https://github.com/MolochVentures/moloch/blob/...   \n",
       "Moloch.SubmitProposal@37  https://github.com/MolochVentures/moloch/blob/...   \n",
       "\n",
       "                                      project  repo_update_datetime  \\\n",
       "id                                                                    \n",
       "Token.Token@5             _Moloch - Moloch v2  2023-01-18T14:28:28Z   \n",
       "Token.constructor@6       _Moloch - Moloch v2  2023-01-18T14:28:28Z   \n",
       "Moloch.Moloch@7           _Moloch - Moloch v2  2023-01-18T14:28:28Z   \n",
       "Moloch.SummonComplete@36  _Moloch - Moloch v2  2023-01-18T14:28:28Z   \n",
       "Moloch.SubmitProposal@37  _Moloch - Moloch v2  2023-01-18T14:28:28Z   \n",
       "\n",
       "                         repo_version  \\\n",
       "id                                      \n",
       "Token.Token@5                     NaN   \n",
       "Token.constructor@6               NaN   \n",
       "Moloch.Moloch@7                   NaN   \n",
       "Moloch.SummonComplete@36          NaN   \n",
       "Moloch.SubmitProposal@37          NaN   \n",
       "\n",
       "                                                          repo_url  \\\n",
       "id                                                                   \n",
       "Token.Token@5             https://github.com/MolochVentures/moloch   \n",
       "Token.constructor@6       https://github.com/MolochVentures/moloch   \n",
       "Moloch.Moloch@7           https://github.com/MolochVentures/moloch   \n",
       "Moloch.SummonComplete@36  https://github.com/MolochVentures/moloch   \n",
       "Moloch.SubmitProposal@37  https://github.com/MolochVentures/moloch   \n",
       "\n",
       "                                                           parameters_names  \\\n",
       "id                                                                            \n",
       "Token.Token@5                                                            []   \n",
       "Token.constructor@6                                                [supply]   \n",
       "Moloch.Moloch@7           [periodDuration, votingPeriodLength, gracePeri...   \n",
       "Moloch.SummonComplete@36  [summoner, tokens, summoningTime, periodDurati...   \n",
       "Moloch.SubmitProposal@37  [applicant, sharesRequested, lootRequested, tr...   \n",
       "\n",
       "                         membership proposal voting  \n",
       "id                                                   \n",
       "Token.Token@5                     0        0      0  \n",
       "Token.constructor@6               0        0      0  \n",
       "Moloch.Moloch@7                   1        1      1  \n",
       "Moloch.SummonComplete@36          0        1      1  \n",
       "Moloch.SubmitProposal@37          1        1      0  \n",
       "\n",
       "[5 rows x 26 columns]"
      ]
     },
     "execution_count": 4,
     "metadata": {},
     "output_type": "execute_result"
    }
   ],
   "source": [
    "df_objects.head()"
   ]
  },
  {
   "cell_type": "code",
   "execution_count": 5,
   "id": "5a620c5d",
   "metadata": {},
   "outputs": [
    {
     "name": "stdout",
     "output_type": "stream",
     "text": [
      "Index(['object_name', 'contract', 'type', 'inheritance', 'modifiers', 'values',\n",
      "       'visibility', 'description', 'parameters', 'title', 'notice', 'dev',\n",
      "       'param', 'return', 'full_comment', 'coding_keyword_search',\n",
      "       'coding_topic_search', 'url', 'project', 'repo_update_datetime',\n",
      "       'repo_version', 'repo_url', 'parameters_names', 'membership',\n",
      "       'proposal', 'voting'],\n",
      "      dtype='object')\n",
      "63\n"
     ]
    }
   ],
   "source": [
    "print(df_objects.columns)\n",
    "print(len(df_objects))"
   ]
  },
  {
   "cell_type": "code",
   "execution_count": 6,
   "id": "6f4accdf",
   "metadata": {},
   "outputs": [
    {
     "name": "stdout",
     "output_type": "stream",
     "text": [
      "membership    14\n",
      "proposal      29\n",
      "voting        12\n",
      "Name: count, dtype: int64\n",
      "['membership', 'proposal', 'voting']\n"
     ]
    }
   ],
   "source": [
    "keyword_counts = count_unique_values(df_objects['coding_keyword_search'])#['coding_keyword_search'])\n",
    "print(keyword_counts)\n",
    "KEYWORDS = sorted(list(keyword_counts.index))\n",
    "print(KEYWORDS)"
   ]
  },
  {
   "cell_type": "code",
   "execution_count": 7,
   "id": "aff37984",
   "metadata": {},
   "outputs": [],
   "source": [
    "PROJECTS = list(df_objects['project'].unique())"
   ]
  },
  {
   "cell_type": "code",
   "execution_count": 8,
   "id": "862ecc21",
   "metadata": {},
   "outputs": [
    {
     "data": {
      "image/png": "[encoded data removed]",
      "text/plain": [
       "<Figure size 360x360 with 1 Axes>"
      ]
     },
     "metadata": {},
     "output_type": "display_data"
    },
    {
     "data": {
      "image/png": "[encoded data removed]",
      "text/plain": [
       "<Figure size 360x360 with 1 Axes>"
      ]
     },
     "metadata": {},
     "output_type": "display_data"
    }
   ],
   "source": [
    "if len(PROJECTS) > 1:\n",
    "    plot_coded_column(df_objects, 'project')\n",
    "plot_coded_column(df_objects, 'coding_keyword_search')\n",
    "plot_coded_column(df_objects, 'type')"
   ]
  },
  {
   "cell_type": "code",
   "execution_count": 9,
   "id": "35ef6b56",
   "metadata": {},
   "outputs": [
    {
     "name": "stdout",
     "output_type": "stream",
     "text": [
      "Including data from 1 projects\n",
      "Found 63 keyword-coded contract objects and 194 parameters\n",
      "Keywords include: membership, proposal, voting\n"
     ]
    }
   ],
   "source": [
    "print(f\"Including data from {len(df_objects['project'].unique())} projects\")\n",
    "print(f\"Found {len(df_objects.index)} keyword-coded contract objects and {len(df_params.index)} parameters\")\n",
    "print(f\"Keywords include: {', '.join(KEYWORDS)}\")"
   ]
  },
  {
   "cell_type": "code",
   "execution_count": 10,
   "id": "d9264ce8",
   "metadata": {},
   "outputs": [
    {
     "data": {
      "text/html": [
       "<div>\n",
       "<style scoped>\n",
       "    .dataframe tbody tr th:only-of-type {\n",
       "        vertical-align: middle;\n",
       "    }\n",
       "\n",
       "    .dataframe tbody tr th {\n",
       "        vertical-align: top;\n",
       "    }\n",
       "\n",
       "    .dataframe thead th {\n",
       "        text-align: right;\n",
       "    }\n",
       "</style>\n",
       "<table border=\"1\" class=\"dataframe\">\n",
       "  <thead>\n",
       "    <tr style=\"text-align: right;\">\n",
       "      <th></th>\n",
       "      <th>parameter_name</th>\n",
       "      <th>object_id</th>\n",
       "      <th>contract</th>\n",
       "      <th>type</th>\n",
       "      <th>type_category</th>\n",
       "      <th>initial_value</th>\n",
       "      <th>visibility</th>\n",
       "      <th>description</th>\n",
       "      <th>full_comment</th>\n",
       "      <th>url</th>\n",
       "      <th>project</th>\n",
       "    </tr>\n",
       "    <tr>\n",
       "      <th>id</th>\n",
       "      <th></th>\n",
       "      <th></th>\n",
       "      <th></th>\n",
       "      <th></th>\n",
       "      <th></th>\n",
       "      <th></th>\n",
       "      <th></th>\n",
       "      <th></th>\n",
       "      <th></th>\n",
       "      <th></th>\n",
       "      <th></th>\n",
       "    </tr>\n",
       "  </thead>\n",
       "  <tbody>\n",
       "    <tr>\n",
       "      <th>Token.constructor.supply@6</th>\n",
       "      <td>supply</td>\n",
       "      <td>Token.constructor@6</td>\n",
       "      <td>Token</td>\n",
       "      <td>uint256</td>\n",
       "      <td>uint</td>\n",
       "      <td>NaN</td>\n",
       "      <td>NaN</td>\n",
       "      <td>NaN</td>\n",
       "      <td>NaN</td>\n",
       "      <td>https://github.com/MolochVentures/moloch/blob/...</td>\n",
       "      <td>_Moloch - Moloch v2</td>\n",
       "    </tr>\n",
       "    <tr>\n",
       "      <th>Moloch.Moloch.periodDuration@13</th>\n",
       "      <td>periodDuration</td>\n",
       "      <td>Moloch.Moloch@7</td>\n",
       "      <td>Moloch</td>\n",
       "      <td>uint256</td>\n",
       "      <td>uint</td>\n",
       "      <td>NaN</td>\n",
       "      <td>public</td>\n",
       "      <td>************ GLOBAL CONSTANTS *************</td>\n",
       "      <td>************\\nGLOBAL CONSTANTS\\n*************\\...</td>\n",
       "      <td>https://github.com/MolochVentures/moloch/blob/...</td>\n",
       "      <td>_Moloch - Moloch v2</td>\n",
       "    </tr>\n",
       "    <tr>\n",
       "      <th>Moloch.Moloch.votingPeriodLength@14</th>\n",
       "      <td>votingPeriodLength</td>\n",
       "      <td>Moloch.Moloch@7</td>\n",
       "      <td>Moloch</td>\n",
       "      <td>uint256</td>\n",
       "      <td>uint</td>\n",
       "      <td>NaN</td>\n",
       "      <td>public</td>\n",
       "      <td>default = 35 periods (7 days)</td>\n",
       "      <td>default = 35 periods (7 days)</td>\n",
       "      <td>https://github.com/MolochVentures/moloch/blob/...</td>\n",
       "      <td>_Moloch - Moloch v2</td>\n",
       "    </tr>\n",
       "    <tr>\n",
       "      <th>Moloch.Moloch.gracePeriodLength@15</th>\n",
       "      <td>gracePeriodLength</td>\n",
       "      <td>Moloch.Moloch@7</td>\n",
       "      <td>Moloch</td>\n",
       "      <td>uint256</td>\n",
       "      <td>uint</td>\n",
       "      <td>NaN</td>\n",
       "      <td>public</td>\n",
       "      <td>default = 35 periods (7 days)</td>\n",
       "      <td>default = 35 periods (7 days)</td>\n",
       "      <td>https://github.com/MolochVentures/moloch/blob/...</td>\n",
       "      <td>_Moloch - Moloch v2</td>\n",
       "    </tr>\n",
       "    <tr>\n",
       "      <th>Moloch.Moloch.proposalDeposit@16</th>\n",
       "      <td>proposalDeposit</td>\n",
       "      <td>Moloch.Moloch@7</td>\n",
       "      <td>Moloch</td>\n",
       "      <td>uint256</td>\n",
       "      <td>uint</td>\n",
       "      <td>NaN</td>\n",
       "      <td>public</td>\n",
       "      <td>default = 10 ETH (~$1,000 worth of ETH at cont...</td>\n",
       "      <td>default = 10 ETH (~$1,000 worth of ETH at cont...</td>\n",
       "      <td>https://github.com/MolochVentures/moloch/blob/...</td>\n",
       "      <td>_Moloch - Moloch v2</td>\n",
       "    </tr>\n",
       "  </tbody>\n",
       "</table>\n",
       "</div>"
      ],
      "text/plain": [
       "                                         parameter_name            object_id  \\\n",
       "id                                                                             \n",
       "Token.constructor.supply@6                       supply  Token.constructor@6   \n",
       "Moloch.Moloch.periodDuration@13          periodDuration      Moloch.Moloch@7   \n",
       "Moloch.Moloch.votingPeriodLength@14  votingPeriodLength      Moloch.Moloch@7   \n",
       "Moloch.Moloch.gracePeriodLength@15    gracePeriodLength      Moloch.Moloch@7   \n",
       "Moloch.Moloch.proposalDeposit@16        proposalDeposit      Moloch.Moloch@7   \n",
       "\n",
       "                                    contract     type type_category  \\\n",
       "id                                                                    \n",
       "Token.constructor.supply@6             Token  uint256          uint   \n",
       "Moloch.Moloch.periodDuration@13       Moloch  uint256          uint   \n",
       "Moloch.Moloch.votingPeriodLength@14   Moloch  uint256          uint   \n",
       "Moloch.Moloch.gracePeriodLength@15    Moloch  uint256          uint   \n",
       "Moloch.Moloch.proposalDeposit@16      Moloch  uint256          uint   \n",
       "\n",
       "                                     initial_value visibility  \\\n",
       "id                                                              \n",
       "Token.constructor.supply@6                     NaN        NaN   \n",
       "Moloch.Moloch.periodDuration@13                NaN     public   \n",
       "Moloch.Moloch.votingPeriodLength@14            NaN     public   \n",
       "Moloch.Moloch.gracePeriodLength@15             NaN     public   \n",
       "Moloch.Moloch.proposalDeposit@16               NaN     public   \n",
       "\n",
       "                                                                           description  \\\n",
       "id                                                                                       \n",
       "Token.constructor.supply@6                                                         NaN   \n",
       "Moloch.Moloch.periodDuration@13            ************ GLOBAL CONSTANTS *************   \n",
       "Moloch.Moloch.votingPeriodLength@14                      default = 35 periods (7 days)   \n",
       "Moloch.Moloch.gracePeriodLength@15                       default = 35 periods (7 days)   \n",
       "Moloch.Moloch.proposalDeposit@16     default = 10 ETH (~$1,000 worth of ETH at cont...   \n",
       "\n",
       "                                                                          full_comment  \\\n",
       "id                                                                                       \n",
       "Token.constructor.supply@6                                                         NaN   \n",
       "Moloch.Moloch.periodDuration@13      ************\\nGLOBAL CONSTANTS\\n*************\\...   \n",
       "Moloch.Moloch.votingPeriodLength@14                      default = 35 periods (7 days)   \n",
       "Moloch.Moloch.gracePeriodLength@15                       default = 35 periods (7 days)   \n",
       "Moloch.Moloch.proposalDeposit@16     default = 10 ETH (~$1,000 worth of ETH at cont...   \n",
       "\n",
       "                                                                                   url  \\\n",
       "id                                                                                       \n",
       "Token.constructor.supply@6           https://github.com/MolochVentures/moloch/blob/...   \n",
       "Moloch.Moloch.periodDuration@13      https://github.com/MolochVentures/moloch/blob/...   \n",
       "Moloch.Moloch.votingPeriodLength@14  https://github.com/MolochVentures/moloch/blob/...   \n",
       "Moloch.Moloch.gracePeriodLength@15   https://github.com/MolochVentures/moloch/blob/...   \n",
       "Moloch.Moloch.proposalDeposit@16     https://github.com/MolochVentures/moloch/blob/...   \n",
       "\n",
       "                                                 project  \n",
       "id                                                        \n",
       "Token.constructor.supply@6           _Moloch - Moloch v2  \n",
       "Moloch.Moloch.periodDuration@13      _Moloch - Moloch v2  \n",
       "Moloch.Moloch.votingPeriodLength@14  _Moloch - Moloch v2  \n",
       "Moloch.Moloch.gracePeriodLength@15   _Moloch - Moloch v2  \n",
       "Moloch.Moloch.proposalDeposit@16     _Moloch - Moloch v2  "
      ]
     },
     "execution_count": 10,
     "metadata": {},
     "output_type": "execute_result"
    }
   ],
   "source": [
    "df_params.head()"
   ]
  },
  {
   "cell_type": "code",
   "execution_count": 11,
   "id": "6712e44e",
   "metadata": {},
   "outputs": [
    {
     "data": {
      "image/png": "[encoded data removed]",
      "text/plain": [
       "<Figure size 360x360 with 1 Axes>"
      ]
     },
     "metadata": {},
     "output_type": "display_data"
    }
   ],
   "source": [
    "#plot_coded_column(df_params, 'project')\n",
    "#plot_coded_column(df_params, 'coding_keyword_search_from_object')\n",
    "plot_coded_column(df_params, 'type_category')"
   ]
  },
  {
   "cell_type": "markdown",
   "id": "c48c9604",
   "metadata": {},
   "source": [
    "## By object type"
   ]
  },
  {
   "cell_type": "code",
   "execution_count": 12,
   "id": "030e138d",
   "metadata": {},
   "outputs": [
    {
     "data": {
      "image/png": "[encoded data removed]",
      "text/plain": [
       "<Figure size 360x360 with 1 Axes>"
      ]
     },
     "metadata": {},
     "output_type": "display_data"
    }
   ],
   "source": [
    "df_init = df_objects[df_objects['object_name'].isin(['constructor', 'initialize'])]\n",
    "if len(PROJECTS) > 1:\n",
    "    plot_coded_column(df_init, 'project', label='initializers relating to keywords')\n",
    "plot_coded_column(df_init, 'coding_keyword_search', label='initializers')"
   ]
  },
  {
   "cell_type": "code",
   "execution_count": 13,
   "id": "7d6f567e",
   "metadata": {},
   "outputs": [],
   "source": [
    "dfs_by_type = {\n",
    "    t: df_objects[df_objects['type'] == t] for t in df_objects.type.unique()\n",
    "}\n",
    "\n",
    "if len(PROJECTS) > 1:\n",
    "    for t, df in dfs_by_type.items():\n",
    "        plot_coded_column(df, 'project', label=f'{t}s relating to keywords')\n"
   ]
  },
  {
   "cell_type": "code",
   "execution_count": 14,
   "id": "21399d9c",
   "metadata": {},
   "outputs": [
    {
     "data": {
      "image/png": "[encoded data removed]",
      "text/plain": [
       "<Figure size 360x360 with 1 Axes>"
      ]
     },
     "metadata": {},
     "output_type": "display_data"
    }
   ],
   "source": [
    "df_functions = dfs_by_type['FunctionDefinition']\n",
    "df_ext_funcs = df_functions[df_functions['visibility'].isin(['external', 'public'])]\n",
    "if len(PROJECTS) > 1:\n",
    "    plot_coded_column(df_ext_funcs, 'project', label='External and public functions')\n",
    "plot_coded_column(df_ext_funcs, 'coding_keyword_search', label='External and public functions')"
   ]
  },
  {
   "cell_type": "code",
   "execution_count": 15,
   "id": "13b8274b",
   "metadata": {},
   "outputs": [
    {
     "name": "stdout",
     "output_type": "stream",
     "text": [
      "_Moloch - Moloch v2, Token:\n",
      "\tsupply\n",
      "\n",
      "_Moloch - Moloch v2, Moloch:\n",
      "\t_summoner\n",
      "\t_approvedTokens\n",
      "\t_periodDuration\n",
      "\t_votingPeriodLength\n",
      "\t_gracePeriodLength\n",
      "\t_proposalDeposit\n",
      "\t_dilutionBound\n",
      "\t_processingReward\n",
      "\n",
      "_Moloch - Moloch v2, ReentrancyGuard:\n",
      "\t\n",
      "\n"
     ]
    },
    {
     "name": "stderr",
     "output_type": "stream",
     "text": [
      "/tmp/ipykernel_396082/37247637.py:2: SettingWithCopyWarning: \n",
      "A value is trying to be set on a copy of a slice from a DataFrame\n",
      "\n",
      "See the caveats in the documentation: https://pandas.pydata.org/pandas-docs/stable/user_guide/indexing.html#returning-a-view-versus-a-copy\n",
      "  df_init.sort_values(by='project', inplace=True)\n"
     ]
    }
   ],
   "source": [
    "# Configurable parameters at initialization of governance smart contracts\n",
    "df_init.sort_values(by='project', inplace=True)\n",
    "for i, row in df_init.iterrows():\n",
    "    params = row['parameters']\n",
    "    print(f\"{row['project']}, {row['contract']}:\")\n",
    "    if isinstance(params, list):\n",
    "        parameterNames = [df_params.loc[ref, 'parameter_name'] for ref in params]\n",
    "        print(\"\\t\" + \"\\n\\t\".join(parameterNames) + \"\\n\")\n",
    "    else:\n",
    "        print(\"\\tNone\\n\")"
   ]
  },
  {
   "cell_type": "code",
   "execution_count": 16,
   "id": "dcfeb247",
   "metadata": {},
   "outputs": [],
   "source": [
    "if len(PROJECTS) > 1:\n",
    "    for t, df in dfs_by_type.items():\n",
    "        if t in ['StructDefinition', 'EnumDefinition']:\n",
    "            for kw in KEYWORDS:\n",
    "                try:\n",
    "                    plot_coded_column(df[df[kw] == 1], 'project', label=f'{t}s relating to {kw}')\n",
    "                except ValueError:\n",
    "                    pass # None found"
   ]
  },
  {
   "cell_type": "code",
   "execution_count": 17,
   "id": "121ad97c",
   "metadata": {},
   "outputs": [
    {
     "name": "stdout",
     "output_type": "stream",
     "text": [
      "_Moloch - Moloch v2\n",
      "                                project contract object_name  parameter_count\n",
      "id                                                                           \n",
      "Moloch.Member@69    _Moloch - Moloch v2   Moloch      Member                6\n",
      "Moloch.Proposal@78  _Moloch - Moloch v2   Moloch    Proposal               16 \n",
      "\n"
     ]
    }
   ],
   "source": [
    "# How many parameters does it take to define an individual proposal? (Or in some cases, the proposal generation process overall?)\n",
    "df_tmp = dfs_by_type['StructDefinition']\n",
    "for kw in ['proposal']:\n",
    "    try:\n",
    "        df_kw = df_tmp[df_tmp[kw] == 1]\n",
    "        df_kw['parameter_count'] = df_kw['parameters'].apply(len)\n",
    "        gb_kw = df_kw[['project', 'contract', 'object_name', 'parameter_count']].groupby(by='project')\n",
    "        print_groupby(gb_kw)\n",
    "    except ValueError:\n",
    "        pass # None found"
   ]
  },
  {
   "cell_type": "code",
   "execution_count": 18,
   "id": "ccf06f46",
   "metadata": {},
   "outputs": [],
   "source": [
    "# How many states can a proposal be in?\n",
    "df_tmp = dfs_by_type['EnumDefinition']\n",
    "for kw in ['proposal']:\n",
    "    try:\n",
    "        df_kw = df_tmp[df_tmp[kw] == 1]\n",
    "        df_kw['parameter_count'] = df_kw['values'].apply(len)\n",
    "        gb_kw = df_kw[['project', 'contract', 'object_name', 'parameter_count']].groupby(by='project')\n",
    "        print_groupby(gb_kw)\n",
    "    except ValueError:\n",
    "        pass # None found"
   ]
  },
  {
   "cell_type": "code",
   "execution_count": 19,
   "id": "91558bcc",
   "metadata": {},
   "outputs": [
    {
     "data": {
      "image/png": "[encoded data removed]",
      "text/plain": [
       "<Figure size 360x360 with 1 Axes>"
      ]
     },
     "metadata": {},
     "output_type": "display_data"
    }
   ],
   "source": [
    "import networkx as nx\n",
    "\n",
    "# TODO: show only functions, or or at least not modifiers or events\n",
    "# TODO: figure out why some contracts don't show up as such\n",
    "# TODO: add directional inheritance relationships\n",
    "\n",
    "for project in df_objects['project'].unique():\n",
    "    # Define the nodes\n",
    "    df_o = df_objects[df_objects['project'] == project][['object_name', 'contract', 'type', 'visibility', 'inheritance', 'coding_keyword_search']].rename(columns={'object_name': 'name'})\n",
    "    df_p = df_params[df_params['project'] == project][['parameter_name', 'object_id']].rename(columns={'parameter_name': 'name'})\n",
    "\n",
    "    # Define the edges\n",
    "    df_c = df_o[df_o['type'] != 'ContractDefinition']['contract'].reset_index().set_index('contract').rename(columns={'id': 'from'})\n",
    "    df_c = df_c.join(df_o[df_o['type'] == 'ContractDefinition'].reset_index().set_index('contract')).rename(columns={'id': 'to'})\n",
    "    df_edges = df_p['object_id'].reset_index().rename(columns={'object_id': 'from', 'id': 'to'})\n",
    "    df_edges = pd.concat([df_edges, df_c])\n",
    "\n",
    "    G = nx.from_pandas_edgelist(df_edges, source='from', target='to')\n",
    "    \n",
    "    # Label the node attributes\n",
    "    df_nodes = pd.concat([df_o, df_p])\n",
    "    df_nodes['type'] = df_nodes['type'].apply(lambda x: x if not pd.isna(x) else 'Parameter')\n",
    "    nx.set_node_attributes(G, pd.Series(df_nodes.name).to_dict(), 'name')\n",
    "    nx.set_node_attributes(G, pd.Series(df_nodes.type).to_dict(), 'type')\n",
    "\n",
    "    # Set node formats based on attributes\n",
    "    color_dict = {'ContractDefinition': 'g', 'Parameter': 'r', 'Other': 'b'}\n",
    "    size_dict = {'ContractDefinition': 200, 'Parameter': 5, 'Other': 20}\n",
    "    colors = [color_dict.get(x[1], color_dict['Other']) for x in G.nodes.data('type')]\n",
    "    sizes = [size_dict.get(x[1], size_dict['Other']) for x in G.nodes.data('type')]\n",
    "    \n",
    "    # Draw\n",
    "    plt.figure()\n",
    "    nx.draw(G, node_color=colors, node_size=sizes)\n",
    "    ax = plt.gca()\n",
    "    ax.set_title(project)\n",
    "\n",
    "    # A hack to get color labels to show up\n",
    "    for k, v in color_dict.items():\n",
    "        plt.scatter([],[], c=v, label=k)\n",
    "    plt.legend()\n",
    "    \n",
    "    "
   ]
  }
 ],
 "metadata": {
  "kernelspec": {
   "display_name": "Python 3 (ipykernel)",
   "language": "python",
   "name": "python3"
  },
  "language_info": {
   "codemirror_mode": {
    "name": "ipython",
    "version": 3
   },
   "file_extension": ".py",
   "mimetype": "text/x-python",
   "name": "python",
   "nbconvert_exporter": "python",
   "pygments_lexer": "ipython3",
   "version": "3.9.7"
  },
  "vscode": {
   "interpreter": {
    "hash": "4f96cbeda1816de1700e3a090398666b576a593c4672113b0fe0fe73ee849507"
   }
  }
 },
 "nbformat": 4,
 "nbformat_minor": 5
}
